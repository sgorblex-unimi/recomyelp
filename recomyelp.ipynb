{
 "cells": [
  {
   "cell_type": "markdown",
   "metadata": {
    "id": "PyzHVan2Ze8S"
   },
   "source": [
    "# Preliminaries"
   ]
  },
  {
   "cell_type": "markdown",
   "metadata": {
    "id": "Dr6Pa4qAZlmD"
   },
   "source": [
    "Upload your kaggle API token. You can download it in the [kaggle account settings](https://www.kaggle.com/settings) under \"Create new token\""
   ]
  },
  {
   "cell_type": "code",
   "execution_count": null,
   "metadata": {
    "colab": {
     "base_uri": "https://localhost:8080/",
     "height": 74
    },
    "id": "uFdms6BZlcGB",
    "outputId": "312dc7c7-0a33-4451-de0b-3dffe947796c"
   },
   "outputs": [],
   "source": [
    "from google.colab import files\n",
    "files.upload()\n",
    "!chmod 600 kaggle.json\n",
    "!mkdir -p ~/.kaggle\n",
    "!mv kaggle.json ~/.kaggle/"
   ]
  },
  {
   "cell_type": "markdown",
   "metadata": {
    "id": "K3v4rZ-p724v"
   },
   "source": [
    "Set to `m` to limit the dataset to the first `m` entries or set to `None` if you want to use the entire dataset."
   ]
  },
  {
   "cell_type": "code",
   "execution_count": null,
   "metadata": {
    "id": "_dDes9ST7dHc"
   },
   "outputs": [],
   "source": [
    "limit_data = 150_000"
   ]
  },
  {
   "cell_type": "markdown",
   "metadata": {
    "id": "PYevZIMpWfr3"
   },
   "source": [
    "Set to `m` to use the `m` nearest neighbors to calculate the collaborative filtering utility."
   ]
  },
  {
   "cell_type": "code",
   "execution_count": null,
   "metadata": {
    "id": "Cql9dCf6WbDr"
   },
   "outputs": [],
   "source": [
    "n = 100"
   ]
  },
  {
   "cell_type": "markdown",
   "metadata": {
    "id": "K1vTsjfLPgye"
   },
   "source": [
    "# Setup"
   ]
  },
  {
   "cell_type": "markdown",
   "metadata": {
    "id": "Bp-6xB1v0R7y"
   },
   "source": [
    "## Download dependencies"
   ]
  },
  {
   "cell_type": "code",
   "execution_count": null,
   "metadata": {
    "colab": {
     "base_uri": "https://localhost:8080/"
    },
    "id": "4tZY14tmcsmF",
    "outputId": "1ead3dc6-f367-401b-c310-ba3508726345"
   },
   "outputs": [],
   "source": [
    "!pip install -q kaggle pyspark"
   ]
  },
  {
   "cell_type": "code",
   "execution_count": null,
   "metadata": {
    "id": "84KrR_TegHsa"
   },
   "outputs": [],
   "source": [
    "import pyspark\n",
    "import pyspark.sql.functions as SF\n",
    "import pyspark.sql.window as SW\n",
    "import pyspark.ml.feature as SFeat"
   ]
  },
  {
   "cell_type": "markdown",
   "metadata": {
    "id": "tb_-Iw3CzS_M"
   },
   "source": [
    "## Download and load dataset"
   ]
  },
  {
   "cell_type": "code",
   "execution_count": null,
   "metadata": {
    "colab": {
     "base_uri": "https://localhost:8080/"
    },
    "id": "JoVp3G5HQfnZ",
    "outputId": "4ea26216-892e-4f6f-818e-959489c0dbeb"
   },
   "outputs": [],
   "source": [
    "!kaggle datasets download -f yelp_academic_dataset_review.json yelp-dataset/yelp-dataset\n",
    "!unzip -n yelp_academic_dataset_review.json.zip"
   ]
  },
  {
   "cell_type": "code",
   "execution_count": null,
   "metadata": {
    "id": "hBcVqL8Bhanp"
   },
   "outputs": [],
   "source": [
    "spark = pyspark.sql.SparkSession.builder.getOrCreate()"
   ]
  },
  {
   "cell_type": "code",
   "execution_count": null,
   "metadata": {
    "id": "YK76nE0Wjvcq"
   },
   "outputs": [],
   "source": [
    "data = spark.read.json(\"yelp_academic_dataset_review.json\").select([\"user_id\", \"business_id\", \"stars\"])\n",
    "if limit_data is not None: data = data.limit(limit_data)\n",
    "data = data.withColumnRenamed(\"user_id\", \"user\").withColumnRenamed(\"business_id\", \"business\")"
   ]
  },
  {
   "cell_type": "markdown",
   "metadata": {
    "id": "mBdrVU_MUcUt"
   },
   "source": [
    "### Serialize IDs"
   ]
  },
  {
   "cell_type": "code",
   "execution_count": null,
   "metadata": {
    "id": "dt8-ckPHklSG"
   },
   "outputs": [],
   "source": [
    "# Convert IDs to serial integers\n",
    "def serialize(df, col):\n",
    "  return SFeat.StringIndexer(inputCol=col, outputCol=col+\"_s\").fit(df).transform(df).drop(col).withColumnRenamed(col+\"_s\",col)\n",
    "\n",
    "data = serialize(serialize(data, \"user\"), \"business\")"
   ]
  },
  {
   "cell_type": "markdown",
   "metadata": {
    "id": "uQPAdTAlUlbO"
   },
   "source": [
    "### Split in train and test set"
   ]
  },
  {
   "cell_type": "code",
   "execution_count": null,
   "metadata": {
    "colab": {
     "base_uri": "https://localhost:8080/"
    },
    "id": "mTCNVUqg2U7E",
    "outputId": "4e5440a4-2607-4228-e531-efdddd03d2a7"
   },
   "outputs": [],
   "source": [
    "reviews, test_set = data.randomSplit([1.5, 0.5])\n",
    "reviews.show()"
   ]
  },
  {
   "cell_type": "markdown",
   "metadata": {
    "id": "BTyT1yzxsQc0"
   },
   "source": [
    "# Populating the utility matrix"
   ]
  },
  {
   "cell_type": "markdown",
   "metadata": {
    "id": "4abEFaHY1ZVy"
   },
   "source": [
    "## Non-normalized version"
   ]
  },
  {
   "cell_type": "markdown",
   "metadata": {
    "id": "5oWw0Ssn3ZkY"
   },
   "source": [
    "### Calculating the cosine distance"
   ]
  },
  {
   "cell_type": "code",
   "execution_count": null,
   "metadata": {
    "colab": {
     "base_uri": "https://localhost:8080/"
    },
    "id": "VidossOBoOZ8",
    "outputId": "19cb14ec-b12b-4698-fb5d-b8bb7612ff98"
   },
   "outputs": [],
   "source": [
    "# building pairs for ultimately calculating cosine distance\n",
    "def addColumnSuffix(df, suff):\n",
    "  return df.select(*[SF.col(col_name).alias(col_name + suff) for col_name in df.columns])\n",
    "\n",
    "def buildPairs(df, pair_col, group_col, val_col):\n",
    "  return addColumnSuffix(df, \"_1\").join(addColumnSuffix(df, \"_2\"), (SF.col(pair_col+'_1')<SF.col(pair_col+'_2')) & (SF.col(group_col+\"_1\") == SF.col(group_col+\"_2\"))).withColumnRenamed(group_col+\"_1\", group_col).drop(group_col+\"_2\")\n",
    "\n",
    "paired = buildPairs(reviews, \"user\", \"business\", \"stars\").select([\"user_1\", \"user_2\", \"business\", \"stars_1\", \"stars_2\"])\n",
    "paired.show()"
   ]
  },
  {
   "cell_type": "code",
   "execution_count": null,
   "metadata": {
    "colab": {
     "base_uri": "https://localhost:8080/"
    },
    "id": "9JBha6Lq6eim",
    "outputId": "8173602a-d13f-41c7-ae43-1c1d127181b0"
   },
   "outputs": [],
   "source": [
    "# product of each pair of ratings for each pair of users\n",
    "prod = paired.withColumn(\"prod\", SF.col(\"stars_1\")*SF.col(\"stars_2\"))\n",
    "prod.show()"
   ]
  },
  {
   "cell_type": "code",
   "execution_count": null,
   "metadata": {
    "colab": {
     "base_uri": "https://localhost:8080/"
    },
    "id": "nmDXgHS36qA4",
    "outputId": "c8bbd7b4-18c9-453e-e780-2f887bb8f78c"
   },
   "outputs": [],
   "source": [
    "# dot product between each pair of users\n",
    "dot = prod.groupBy([\"user_1\",\"user_2\"]).sum(\"prod\").withColumnRenamed(\"sum(prod)\", \"dot\")\n",
    "dot.show()"
   ]
  },
  {
   "cell_type": "code",
   "execution_count": null,
   "metadata": {
    "colab": {
     "base_uri": "https://localhost:8080/"
    },
    "id": "3sTVrwHt6yiR",
    "outputId": "dd6f97fd-c194-437b-fbbc-ba298e0be569"
   },
   "outputs": [],
   "source": [
    "# norm of the rating vector for each user\n",
    "def getNorms(df, group_col, val_col):\n",
    "  return df.withColumn(\"squared\", SF.col(val_col)**2).groupBy(group_col).sum(\"squared\").withColumn(\"norm\", SF.col(\"sum(squared)\")**.5).select([group_col, \"norm\"])\n",
    "\n",
    "norm = getNorms(reviews, \"user\", \"stars\")\n",
    "norm.show()"
   ]
  },
  {
   "cell_type": "code",
   "execution_count": null,
   "metadata": {
    "colab": {
     "base_uri": "https://localhost:8080/"
    },
    "id": "hrvIgTIh8bkE",
    "outputId": "f97bca82-ded8-40ec-aaee-9e7c384311a4"
   },
   "outputs": [],
   "source": [
    "# joining dots and norms to calculate cosine distance\n",
    "dotnorm = dot.join(norm, SF.col(\"user_1\") == SF.col(\"user\")).withColumnRenamed(\"norm\", \"norm_1\").drop(\"user\").join(norm, SF.col(\"user_2\") == SF.col(\"user\")).withColumnRenamed(\"norm\", \"norm_2\").drop(\"user\")\n",
    "cosine = dotnorm.withColumn(\"cosine\", SF.col(\"dot\")/(SF.col(\"norm_1\")*SF.col(\"norm_2\"))).select([\"user_1\", \"user_2\", \"cosine\"])\n",
    "cosine.show()"
   ]
  },
  {
   "cell_type": "markdown",
   "metadata": {
    "id": "lQGvzkup3yTp"
   },
   "source": [
    "### Infering the missing entries"
   ]
  },
  {
   "cell_type": "code",
   "execution_count": null,
   "metadata": {
    "colab": {
     "base_uri": "https://localhost:8080/"
    },
    "id": "0RYu-fBvB-OK",
    "outputId": "9e194242-4b56-4276-c804-c9731171aa62"
   },
   "outputs": [],
   "source": [
    "def rankDistances(df, group_col, val_col):\n",
    "  w = SW.Window.partitionBy(group_col).orderBy(val_col)\n",
    "  return df.withColumn(\"rank\", SF.row_number().over(w))\n",
    "\n",
    "# adding symmetric distances\n",
    "# adding rank of user_2 with respect to user_1\n",
    "ranked = rankDistances(cosine.union(cosine.select(\"user_2\", \"user_1\", \"cosine\")), \"user_1\", \"cosine\").drop(\"cosine\").filter(SF.col(\"rank\")<=n)\n",
    "ranked.show()"
   ]
  },
  {
   "cell_type": "code",
   "execution_count": null,
   "metadata": {
    "colab": {
     "base_uri": "https://localhost:8080/"
    },
    "id": "7yBuZksHDRew",
    "outputId": "71214e6f-a89f-486c-9dd1-aab5be1db90d"
   },
   "outputs": [],
   "source": [
    "# calculating the utility matrix (including the entries we already have)\n",
    "utility = ranked.join(reviews, SF.col(\"user_2\")==SF.col(\"user\")).groupBy([\"user_1\", \"business\"]).mean(\"stars\").withColumnRenamed(\"avg(stars)\", \"stars_pred\").withColumnRenamed(\"user_1\", \"user\")\n",
    "utility.show()"
   ]
  },
  {
   "cell_type": "markdown",
   "metadata": {
    "id": "Rpkobi5D1Smw"
   },
   "source": [
    "## Normalized version"
   ]
  },
  {
   "cell_type": "markdown",
   "metadata": {
    "id": "L92y3BiRYXfb"
   },
   "source": [
    "### Normalizing"
   ]
  },
  {
   "cell_type": "code",
   "execution_count": null,
   "metadata": {
    "colab": {
     "base_uri": "https://localhost:8080/"
    },
    "id": "-ca-TyeBmaBu",
    "outputId": "3595b1fc-da13-430c-fe82-160d790eb0f1"
   },
   "outputs": [],
   "source": [
    "# normalization of column with respect to partition (user)\n",
    "\n",
    "def avgize(df, val_col, part_col):\n",
    "  return df.groupBy(part_col).avg(val_col)\n",
    "\n",
    "avgs = avgize(reviews, \"stars\", \"user\")\n",
    "avgs.show()"
   ]
  },
  {
   "cell_type": "code",
   "execution_count": null,
   "metadata": {
    "colab": {
     "base_uri": "https://localhost:8080/"
    },
    "id": "WeB6sKrsxh2K",
    "outputId": "c6285255-7f51-405b-9b80-7383dbd01b01"
   },
   "outputs": [],
   "source": [
    "def normalize(df, avg_df, avg_col, val_col, part_col):\n",
    "  return avg_df.join(df, part_col).withColumn(val_col+'_norm', SF.col(val_col)-SF.col(avg_col)).drop(avg_col).drop(val_col)\n",
    "\n",
    "reviews_nonnorm = reviews # keeping non-normalized version for later\n",
    "reviews = normalize(reviews, avgs, \"avg(stars)\", \"stars\", \"user\").withColumnRenamed(\"stars_norm\", \"stars\")\n",
    "reviews.show()"
   ]
  },
  {
   "cell_type": "markdown",
   "metadata": {
    "id": "qF-2XVnJYbb1"
   },
   "source": [
    "### Calculating"
   ]
  },
  {
   "cell_type": "code",
   "execution_count": null,
   "metadata": {
    "colab": {
     "base_uri": "https://localhost:8080/"
    },
    "id": "8dAphm1E27R5",
    "outputId": "c2a5deb1-4c58-423c-d719-603150d65000"
   },
   "outputs": [],
   "source": [
    "# same as before\n",
    "paired = buildPairs(reviews, \"user\", \"business\", \"stars\").select([\"user_1\", \"user_2\", \"business\", \"stars_1\", \"stars_2\"])\n",
    "prod = paired.withColumn(\"prod\", SF.col(\"stars_1\")*SF.col(\"stars_2\"))\n",
    "dot = prod.groupBy([\"user_1\",\"user_2\"]).sum(\"prod\").withColumnRenamed(\"sum(prod)\", \"dot\")\n",
    "norm = getNorms(reviews, \"user\", \"stars\")\n",
    "dotnorm = dot.join(norm, SF.col(\"user_1\") == SF.col(\"user\")).withColumnRenamed(\"norm\", \"norm_1\").drop(\"user\").join(norm, SF.col(\"user_2\") == SF.col(\"user\")).withColumnRenamed(\"norm\", \"norm_2\").drop(\"user\")\n",
    "cosine = dotnorm.withColumn(\"cosine\", SF.col(\"dot\")/(SF.col(\"norm_1\")*SF.col(\"norm_2\"))).select([\"user_1\", \"user_2\", \"cosine\"])\n",
    "ranked = rankDistances(cosine.union(cosine.select(\"user_2\", \"user_1\", \"cosine\")), \"user_1\", \"cosine\").drop(\"cosine\").filter(SF.col(\"rank\")<=n)\n",
    "utility_norm_norm = ranked.join(reviews, SF.col(\"user_2\")==SF.col(\"user\")).groupBy([\"user_1\", \"business\"]).mean(\"stars\").withColumnRenamed(\"avg(stars)\", \"stars_pred\").withColumnRenamed(\"user_1\", \"user\")\n",
    "utility_norm_norm.show()"
   ]
  },
  {
   "cell_type": "markdown",
   "metadata": {
    "id": "gChgeNnxYd7k"
   },
   "source": [
    "### Denormalizing"
   ]
  },
  {
   "cell_type": "code",
   "execution_count": null,
   "metadata": {
    "colab": {
     "base_uri": "https://localhost:8080/"
    },
    "id": "X7lJqnxJM9xg",
    "outputId": "d910fd80-96d4-4eda-9d0a-c8aa9ffd2012"
   },
   "outputs": [],
   "source": [
    "# denormalizing in order to have something at scale\n",
    "\n",
    "def denormalize(df, avg_df, avg_col, val_col, part_col):\n",
    "  return avg_df.join(df, part_col).withColumn(val_col+'_denorm', SF.col(val_col)+SF.col(avg_col)).drop(avg_col).drop(val_col)\n",
    "\n",
    "utility_norm = denormalize(utility_norm_norm, avgs, \"avg(stars)\", \"stars_pred\", \"user\").withColumnRenamed(\"stars_pred_denorm\", \"stars_pred\")\n",
    "utility_norm.show()"
   ]
  },
  {
   "cell_type": "markdown",
   "metadata": {
    "id": "qb-AfaXDHrWa"
   },
   "source": [
    "# Evaluating the results"
   ]
  },
  {
   "cell_type": "markdown",
   "metadata": {
    "id": "j6p8rig_tQgf"
   },
   "source": [
    "## Comparing against ALS"
   ]
  },
  {
   "cell_type": "code",
   "execution_count": null,
   "metadata": {
    "id": "OKkHevEHRDni"
   },
   "outputs": [],
   "source": [
    "from pyspark.ml.evaluation import RegressionEvaluator\n",
    "from pyspark.ml.recommendation import ALS\n",
    "\n",
    "als = ALS(userCol=\"user\",\n",
    "          itemCol=\"business\",\n",
    "          ratingCol=\"stars\")\n",
    "\n",
    "model = als.fit(reviews_nonnorm)"
   ]
  },
  {
   "cell_type": "markdown",
   "metadata": {
    "id": "ZxHTcg5-Q_ml"
   },
   "source": [
    "### Non-normalized version"
   ]
  },
  {
   "cell_type": "code",
   "execution_count": null,
   "metadata": {
    "id": "nIBCy8ePRXoY"
   },
   "outputs": [],
   "source": [
    "compare = model.transform(utility)\n",
    "compare.show()"
   ]
  },
  {
   "cell_type": "code",
   "execution_count": null,
   "metadata": {
    "colab": {
     "base_uri": "https://localhost:8080/"
    },
    "id": "78sRIZLARXoa",
    "outputId": "6c078472-6be0-4685-fdce-dffc60225bc6"
   },
   "outputs": [],
   "source": [
    "evaluator = RegressionEvaluator(metricName=\"rmse\", labelCol=\"prediction\", predictionCol=\"stars_pred\")\n",
    "rmse = evaluator.evaluate(compare)\n",
    "print(\"RMSE: \" + str(rmse))"
   ]
  },
  {
   "cell_type": "markdown",
   "metadata": {
    "id": "gWwulih_Q6kV"
   },
   "source": [
    "### Normalized version"
   ]
  },
  {
   "cell_type": "code",
   "execution_count": null,
   "metadata": {
    "id": "6RX2t6fEGpzs"
   },
   "outputs": [],
   "source": [
    "compare = model.transform(utility_norm)\n",
    "compare.show()"
   ]
  },
  {
   "cell_type": "code",
   "execution_count": null,
   "metadata": {
    "colab": {
     "base_uri": "https://localhost:8080/"
    },
    "id": "gfzOgbsGSQ-y",
    "outputId": "6c078472-6be0-4685-fdce-dffc60225bc6"
   },
   "outputs": [],
   "source": [
    "rmse = evaluator.evaluate(compare)\n",
    "print(\"RMSE: \" + str(rmse))"
   ]
  },
  {
   "cell_type": "markdown",
   "metadata": {
    "id": "FxDICWdjtaIP"
   },
   "source": [
    "## Using the selected test set"
   ]
  },
  {
   "cell_type": "markdown",
   "metadata": {
    "id": "h_m1MI-GTa2P"
   },
   "source": [
    "### Non-normalized version"
   ]
  },
  {
   "cell_type": "code",
   "execution_count": null,
   "metadata": {
    "colab": {
     "base_uri": "https://localhost:8080/"
    },
    "id": "ELDkeTMCTa2R",
    "outputId": "15489a7f-0805-4b54-8859-121e50ea0488"
   },
   "outputs": [],
   "source": [
    "compare = utility.join(test_set, [\"user\", \"business\"]).select([\"user\", \"business\", \"stars\", \"stars_pred\"])\n",
    "compare.show()"
   ]
  },
  {
   "cell_type": "code",
   "execution_count": null,
   "metadata": {
    "colab": {
     "base_uri": "https://localhost:8080/"
    },
    "id": "yePdKLQ7Ta2T",
    "outputId": "92f3caea-5aac-48ef-9011-ab880e264b55"
   },
   "outputs": [],
   "source": [
    "evaluator = RegressionEvaluator(metricName=\"rmse\", labelCol=\"stars\", predictionCol=\"stars_pred\")\n",
    "rmse = evaluator.evaluate(compare)\n",
    "print(\"RMSE: \" + str(rmse))"
   ]
  },
  {
   "cell_type": "markdown",
   "metadata": {
    "id": "PKv6nbdCTO9B"
   },
   "source": [
    "### Normalized version"
   ]
  },
  {
   "cell_type": "code",
   "execution_count": null,
   "metadata": {
    "colab": {
     "base_uri": "https://localhost:8080/",
     "height": 196
    },
    "id": "9QO-BwXBuJNK",
    "outputId": "80b0d8e3-bcc8-4e6b-cadb-627a42cfd0cf"
   },
   "outputs": [],
   "source": [
    "compare = utility_norm.join(test_set, [\"user\", \"business\"]).select([\"user\", \"business\", \"stars\", \"stars_pred\"])\n",
    "compare.show()"
   ]
  },
  {
   "cell_type": "code",
   "execution_count": null,
   "metadata": {
    "colab": {
     "base_uri": "https://localhost:8080/",
     "height": 213
    },
    "id": "k0fu837NxI_A",
    "outputId": "f42bfa83-bd15-4f2c-d408-7e04eddea074"
   },
   "outputs": [],
   "source": [
    "rmse = evaluator.evaluate(compare)\n",
    "print(\"RMSE: \" + str(rmse))"
   ]
  }
 ],
 "metadata": {
  "colab": {
   "collapsed_sections": [
    "PyzHVan2Ze8S",
    "K1vTsjfLPgye"
   ],
   "provenance": []
  },
  "kernelspec": {
   "display_name": "Python 3",
   "name": "python3"
  },
  "language_info": {
   "name": "python"
  }
 },
 "nbformat": 4,
 "nbformat_minor": 0
}
