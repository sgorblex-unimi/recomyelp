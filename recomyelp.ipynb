{
 "cells": [
  {
   "cell_type": "markdown",
   "metadata": {
    "id": "PyzHVan2Ze8S"
   },
   "source": [
    "# Preliminaries"
   ]
  },
  {
   "cell_type": "markdown",
   "metadata": {
    "id": "Dr6Pa4qAZlmD"
   },
   "source": [
    "Upload your kaggle API token. You can download it in the [kaggle account settings](https://www.kaggle.com/settings) under \"Create new token\""
   ]
  },
  {
   "cell_type": "code",
   "execution_count": null,
   "metadata": {
    "colab": {
     "base_uri": "https://localhost:8080/",
     "height": 76
    },
    "id": "uFdms6BZlcGB",
    "outputId": "15f216e4-5b3f-4b41-9daf-86be976d70f5"
   },
   "outputs": [],
   "source": [
    "from google.colab import files\n",
    "files.upload()\n",
    "!chmod 600 kaggle.json\n",
    "!mkdir -p ~/.kaggle\n",
    "!mv kaggle.json ~/.kaggle/"
   ]
  },
  {
   "cell_type": "markdown",
   "metadata": {
    "id": "K3v4rZ-p724v"
   },
   "source": [
    "Set to `n` to limit the dataset to the first `n` entries or set to `0` if you want to use the entire dataset."
   ]
  },
  {
   "cell_type": "code",
   "execution_count": null,
   "metadata": {
    "id": "_dDes9ST7dHc"
   },
   "outputs": [],
   "source": [
    "limit_data = 100_000"
   ]
  },
  {
   "cell_type": "markdown",
   "metadata": {
    "id": "K1vTsjfLPgye"
   },
   "source": [
    "# Setup"
   ]
  },
  {
   "cell_type": "markdown",
   "metadata": {
    "id": "Bp-6xB1v0R7y"
   },
   "source": [
    "## Download dependencies"
   ]
  },
  {
   "cell_type": "code",
   "execution_count": null,
   "metadata": {
    "colab": {
     "base_uri": "https://localhost:8080/"
    },
    "id": "4tZY14tmcsmF",
    "outputId": "a4abad83-9198-4c23-fc1a-f27405cc5ea0"
   },
   "outputs": [],
   "source": [
    "!pip install -q kaggle pyspark"
   ]
  },
  {
   "cell_type": "code",
   "execution_count": null,
   "metadata": {
    "id": "84KrR_TegHsa"
   },
   "outputs": [],
   "source": [
    "import pyspark\n",
    "import pyspark.sql.functions as SF\n",
    "import pyspark.sql.window as SW\n",
    "import pyspark.ml.feature as SFeat"
   ]
  },
  {
   "cell_type": "markdown",
   "metadata": {
    "id": "tb_-Iw3CzS_M"
   },
   "source": [
    "## Download and load dataset"
   ]
  },
  {
   "cell_type": "code",
   "execution_count": null,
   "metadata": {
    "colab": {
     "base_uri": "https://localhost:8080/"
    },
    "id": "JoVp3G5HQfnZ",
    "outputId": "ea8395f3-78cc-4682-b1d1-1b59829e070c"
   },
   "outputs": [],
   "source": [
    "!kaggle datasets download -f yelp_academic_dataset_review.json yelp-dataset/yelp-dataset\n",
    "!unzip -n yelp_academic_dataset_review.json.zip"
   ]
  },
  {
   "cell_type": "code",
   "execution_count": null,
   "metadata": {
    "id": "hBcVqL8Bhanp"
   },
   "outputs": [],
   "source": [
    "spark = pyspark.sql.SparkSession.builder.getOrCreate()"
   ]
  },
  {
   "cell_type": "code",
   "execution_count": null,
   "metadata": {
    "id": "YK76nE0Wjvcq"
   },
   "outputs": [],
   "source": [
    "reviews = spark.read.json(\"yelp_academic_dataset_review.json\").select([\"user_id\", \"business_id\", \"stars\"])\n",
    "if limit_data != 0: reviews = reviews.limit(limit_data)"
   ]
  },
  {
   "cell_type": "code",
   "execution_count": null,
   "metadata": {
    "colab": {
     "base_uri": "https://localhost:8080/"
    },
    "id": "er0rp0oAjVuq",
    "outputId": "8372093c-bc0c-472c-f0fc-fd86554d17e3"
   },
   "outputs": [],
   "source": [
    "reviews = reviews.withColumnRenamed(\"user_id\", \"user\").withColumnRenamed(\"business_id\", \"business\")\n",
    "reviews.show()"
   ]
  },
  {
   "cell_type": "code",
   "execution_count": null,
   "metadata": {
    "colab": {
     "base_uri": "https://localhost:8080/"
    },
    "id": "dt8-ckPHklSG",
    "outputId": "adc241b5-7348-47b8-d026-ff471b70d1a1"
   },
   "outputs": [],
   "source": [
    "# Convert IDs to serial integers\n",
    "def serialize(df, col):\n",
    "  return SFeat.StringIndexer(inputCol=col, outputCol=col+\"_s\").fit(df).transform(df).drop(col).withColumnRenamed(col+\"_s\",col)\n",
    "\n",
    "serial = serialize(serialize(reviews, \"user\"), \"business\")\n",
    "serial.show()"
   ]
  },
  {
   "cell_type": "code",
   "execution_count": null,
   "metadata": {
    "colab": {
     "base_uri": "https://localhost:8080/"
    },
    "id": "-ca-TyeBmaBu",
    "outputId": "b9179634-320a-4ff4-9d5f-2ff7a69e6995"
   },
   "outputs": [],
   "source": [
    "# normalization of column with respect to partition\n",
    "\n",
    "def avgize(df, val_col, part_col):\n",
    "  return df.groupBy(part_col).avg(val_col)\n",
    "\n",
    "avgs = avgize(serial, \"stars\", \"user\")\n",
    "avgs.show()"
   ]
  },
  {
   "cell_type": "code",
   "execution_count": null,
   "metadata": {
    "colab": {
     "base_uri": "https://localhost:8080/"
    },
    "id": "WeB6sKrsxh2K",
    "outputId": "8fa77de9-7655-4e15-bef2-ce116d4bab3a"
   },
   "outputs": [],
   "source": [
    "def normalize(df, avg_df, avg_col, val_col, part_col):\n",
    "  return avgs.join(serial, part_col).withColumn(val_col+'_norm', SF.col(val_col)-SF.col(avg_col)).drop(avg_col).drop(val_col)\n",
    "\n",
    "# normal = normalize(serial, avgs, \"avg(stars)\", \"stars\", \"user_id\").withColumnRenamed(\"stars_norm\", \"stars\")\n",
    "normal = serial # ignoring normalization for now\n",
    "normal.show()"
   ]
  },
  {
   "cell_type": "code",
   "execution_count": null,
   "metadata": {
    "colab": {
     "base_uri": "https://localhost:8080/"
    },
    "id": "VidossOBoOZ8",
    "outputId": "b723c7b4-2dd8-4dc7-9335-4c9315a064db"
   },
   "outputs": [],
   "source": [
    "# building pairs for ultimately calculating cosine distance\n",
    "def addColumnSuffix(df, suff):\n",
    "  return df.select(*[SF.col(col_name).alias(col_name + suff) for col_name in df.columns])\n",
    "\n",
    "def buildPairs(df, pair_col, group_col, val_col):\n",
    "  return addColumnSuffix(df, \"_1\").join(addColumnSuffix(df, \"_2\"), (SF.col(pair_col+'_1')<SF.col(pair_col+'_2')) & (SF.col(group_col+\"_1\") == SF.col(group_col+\"_2\"))).withColumnRenamed(group_col+\"_1\", group_col).drop(group_col+\"_2\")\n",
    "\n",
    "paired = buildPairs(normal, \"user\", \"business\", \"stars\").select([\"user_1\", \"user_2\", \"business\", \"stars_1\", \"stars_2\"])\n",
    "paired.show()"
   ]
  },
  {
   "cell_type": "code",
   "execution_count": null,
   "metadata": {
    "colab": {
     "base_uri": "https://localhost:8080/"
    },
    "id": "9JBha6Lq6eim",
    "outputId": "b927819b-1445-44dc-fb9c-a5543162fd32"
   },
   "outputs": [],
   "source": [
    "# product of each pair of ratings for each pair of users\n",
    "prod = paired.withColumn(\"prod\", SF.col(\"stars_1\")*SF.col(\"stars_2\"))\n",
    "prod.show()"
   ]
  },
  {
   "cell_type": "code",
   "execution_count": null,
   "metadata": {
    "colab": {
     "base_uri": "https://localhost:8080/"
    },
    "id": "nmDXgHS36qA4",
    "outputId": "be5d7308-b42b-40a9-c60c-3029127e63a1"
   },
   "outputs": [],
   "source": [
    "# dot product between each pair of users\n",
    "dot = prod.groupBy([\"user_1\",\"user_2\"]).sum(\"prod\").withColumnRenamed(\"sum(prod)\", \"dot\")\n",
    "dot.show()"
   ]
  },
  {
   "cell_type": "code",
   "execution_count": null,
   "metadata": {
    "colab": {
     "base_uri": "https://localhost:8080/"
    },
    "id": "3sTVrwHt6yiR",
    "outputId": "ae5c8178-8b8c-44bd-a3d4-38445f63446f"
   },
   "outputs": [],
   "source": [
    "# norm of the rating vector for each user\n",
    "def getNorms(df, group_col, val_col):\n",
    "  return df.withColumn(\"squared\", SF.col(val_col)**2).groupBy(group_col).sum(\"squared\").withColumn(\"norm\", SF.col(\"sum(squared)\")**.5).select([group_col, \"norm\"])\n",
    "\n",
    "norm = getNorms(normal, \"user\", \"stars\")\n",
    "norm.show()"
   ]
  },
  {
   "cell_type": "code",
   "execution_count": null,
   "metadata": {
    "colab": {
     "base_uri": "https://localhost:8080/"
    },
    "id": "hrvIgTIh8bkE",
    "outputId": "a7f8d2bd-f13c-4fa5-8029-bc52417d5a86"
   },
   "outputs": [],
   "source": [
    "# joining dots and norms to calculate cosine distance\n",
    "dotnorm = dot.join(norm, SF.col(\"user_1\") == SF.col(\"user\")).withColumnRenamed(\"norm\", \"norm_1\").drop(\"user\").join(norm, SF.col(\"user_2\") == SF.col(\"user\")).withColumnRenamed(\"norm\", \"norm_2\").drop(\"user\")\n",
    "cosine = dotnorm.withColumn(\"cosine\", SF.col(\"dot\")/(SF.col(\"norm_1\")*SF.col(\"norm_2\"))).select([\"user_1\", \"user_2\", \"cosine\"])\n",
    "cosine.show()"
   ]
  },
  {
   "cell_type": "code",
   "execution_count": null,
   "metadata": {
    "colab": {
     "base_uri": "https://localhost:8080/"
    },
    "id": "0RYu-fBvB-OK",
    "outputId": "abe66e56-638f-4ac6-9b2c-e6c09896968b"
   },
   "outputs": [],
   "source": [
    "def rankDistances(df, group_col, val_col):\n",
    "  w = SW.Window.partitionBy(group_col).orderBy(val_col)\n",
    "  return df.withColumn(\"rank\", SF.row_number().over(w))\n",
    "\n",
    "# adding symmetry to the distances\n",
    "# adding rank of user_2 with respect to user_1\n",
    "n = 100\n",
    "ranked = rankDistances(cosine.union(cosine.select(\"user_2\", \"user_1\", \"cosine\")), \"user_1\", \"cosine\").drop(\"cosine\").filter(SF.col(\"rank\")<=n)\n",
    "ranked.show()"
   ]
  },
  {
   "cell_type": "code",
   "execution_count": null,
   "metadata": {
    "colab": {
     "base_uri": "https://localhost:8080/"
    },
    "id": "7yBuZksHDRew",
    "outputId": "df1a04f3-9200-4aa1-ecf0-f27ec726a4b2"
   },
   "outputs": [],
   "source": [
    "# trying to calculate a rating prediction with not much logic\n",
    "# note that cosine is now useless, we only need rank\n",
    "\n",
    "pred_stars = ranked.join(normal, SF.col(\"user_2\")==SF.col(\"user\")).groupBy([\"user_1\", \"business\"]).mean(\"stars\").withColumnRenamed(\"avg(stars)\", \"stars_pred\")\n",
    "\n",
    "# COMMENTS: this kinda works but I'm calculating stuff for the ratings I already have.\n",
    "pred_stars.show()"
   ]
  }
 ],
 "metadata": {
  "colab": {
   "provenance": []
  },
  "kernelspec": {
   "display_name": "Python 3",
   "name": "python3"
  },
  "language_info": {
   "name": "python"
  }
 },
 "nbformat": 4,
 "nbformat_minor": 0
}
