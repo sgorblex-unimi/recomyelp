{
 "cells": [
  {
   "cell_type": "markdown",
   "metadata": {
    "id": "PyzHVan2Ze8S"
   },
   "source": [
    "# Preliminaries"
   ]
  },
  {
   "cell_type": "markdown",
   "metadata": {
    "id": "Dr6Pa4qAZlmD"
   },
   "source": [
    "Upload your kaggle API token. You can download it in the [kaggle account settings](https://www.kaggle.com/settings) under \"Create new token\""
   ]
  },
  {
   "cell_type": "code",
   "execution_count": null,
   "metadata": {
    "colab": {
     "base_uri": "https://localhost:8080/",
     "height": 74
    },
    "id": "uFdms6BZlcGB",
    "outputId": "7cc11e05-7272-4cd4-8a23-4cd82c8b7bbe"
   },
   "outputs": [],
   "source": [
    "from google.colab import files\n",
    "files.upload()\n",
    "!chmod 600 kaggle.json\n",
    "!mkdir -p ~/.kaggle\n",
    "!mv kaggle.json ~/.kaggle/"
   ]
  },
  {
   "cell_type": "markdown",
   "metadata": {
    "id": "K3v4rZ-p724v"
   },
   "source": [
    "Set to `m` to limit the dataset to the first `m` entries or set to `None` if you want to use the entire dataset:"
   ]
  },
  {
   "cell_type": "code",
   "execution_count": null,
   "metadata": {
    "id": "_dDes9ST7dHc"
   },
   "outputs": [],
   "source": [
    "limit_data = 150_000"
   ]
  },
  {
   "cell_type": "markdown",
   "metadata": {
    "id": "PYevZIMpWfr3"
   },
   "source": [
    "Set to `m` to use the `m` nearest neighbors to calculate the collaborative filtering utility:"
   ]
  },
  {
   "cell_type": "code",
   "execution_count": null,
   "metadata": {
    "id": "Cql9dCf6WbDr"
   },
   "outputs": [],
   "source": [
    "n = 100"
   ]
  },
  {
   "cell_type": "markdown",
   "metadata": {
    "id": "UT7b_TAAUhQ9"
   },
   "source": [
    "Set to `[a,b]` to split the dataset in a fraction of `a` to `b` train/test set (will be automatically normalized):"
   ]
  },
  {
   "cell_type": "code",
   "execution_count": null,
   "metadata": {
    "id": "fIpRVPwfUgnr"
   },
   "outputs": [],
   "source": [
    "split_ratio = [1.5, 0.5]"
   ]
  },
  {
   "cell_type": "markdown",
   "metadata": {
    "id": "K1vTsjfLPgye"
   },
   "source": [
    "# Setup"
   ]
  },
  {
   "cell_type": "markdown",
   "metadata": {
    "id": "Bp-6xB1v0R7y"
   },
   "source": [
    "## Download dependencies"
   ]
  },
  {
   "cell_type": "code",
   "execution_count": null,
   "metadata": {
    "colab": {
     "base_uri": "https://localhost:8080/"
    },
    "id": "4tZY14tmcsmF",
    "outputId": "a92aeaf0-7233-4baf-eef0-dce15f1c5fa0"
   },
   "outputs": [],
   "source": [
    "!pip install -q kaggle pyspark"
   ]
  },
  {
   "cell_type": "code",
   "execution_count": null,
   "metadata": {
    "id": "84KrR_TegHsa"
   },
   "outputs": [],
   "source": [
    "import pyspark\n",
    "import pyspark.sql.functions as SF\n",
    "import pyspark.sql.window as SW\n",
    "import pyspark.ml.feature as SFeat"
   ]
  },
  {
   "cell_type": "markdown",
   "metadata": {
    "id": "tb_-Iw3CzS_M"
   },
   "source": [
    "## Download and load dataset"
   ]
  },
  {
   "cell_type": "code",
   "execution_count": null,
   "metadata": {
    "colab": {
     "base_uri": "https://localhost:8080/"
    },
    "id": "JoVp3G5HQfnZ",
    "outputId": "9bc934ef-776e-42df-8022-7cf6d9bd01f8"
   },
   "outputs": [],
   "source": [
    "!kaggle datasets download -f yelp_academic_dataset_review.json yelp-dataset/yelp-dataset\n",
    "!unzip -n yelp_academic_dataset_review.json.zip"
   ]
  },
  {
   "cell_type": "code",
   "execution_count": null,
   "metadata": {
    "id": "hBcVqL8Bhanp"
   },
   "outputs": [],
   "source": [
    "spark = pyspark.sql.SparkSession.builder.getOrCreate()"
   ]
  },
  {
   "cell_type": "code",
   "execution_count": null,
   "metadata": {
    "id": "YK76nE0Wjvcq"
   },
   "outputs": [],
   "source": [
    "data = spark.read.json(\"yelp_academic_dataset_review.json\").select([\"user_id\", \"business_id\", \"stars\"])\n",
    "if limit_data is not None: data = data.limit(limit_data)\n",
    "data = data.withColumnRenamed(\"user_id\", \"user\").withColumnRenamed(\"business_id\", \"business\")"
   ]
  },
  {
   "cell_type": "markdown",
   "metadata": {
    "id": "mBdrVU_MUcUt"
   },
   "source": [
    "### Serialize IDs"
   ]
  },
  {
   "cell_type": "code",
   "execution_count": null,
   "metadata": {
    "id": "dt8-ckPHklSG"
   },
   "outputs": [],
   "source": [
    "# Convert IDs to serial integers\n",
    "def serialize(df, col):\n",
    "  return SFeat.StringIndexer(inputCol=col, outputCol=col+\"_s\").fit(df).transform(df).drop(col).withColumnRenamed(col+\"_s\",col)\n",
    "\n",
    "data = serialize(serialize(data, \"user\"), \"business\")"
   ]
  },
  {
   "cell_type": "markdown",
   "metadata": {
    "id": "uQPAdTAlUlbO"
   },
   "source": [
    "### Split in train and test set"
   ]
  },
  {
   "cell_type": "code",
   "execution_count": null,
   "metadata": {
    "colab": {
     "base_uri": "https://localhost:8080/"
    },
    "id": "mTCNVUqg2U7E",
    "outputId": "6ceb62eb-0d66-481a-f6c5-65a0aa1f913a"
   },
   "outputs": [],
   "source": [
    "reviews, test_set = data.randomSplit(split_ratio)\n",
    "reviews.show()"
   ]
  },
  {
   "cell_type": "markdown",
   "metadata": {
    "id": "BTyT1yzxsQc0"
   },
   "source": [
    "# Populating the utility matrix"
   ]
  },
  {
   "cell_type": "markdown",
   "metadata": {
    "id": "4abEFaHY1ZVy"
   },
   "source": [
    "## Non-normalized version"
   ]
  },
  {
   "cell_type": "markdown",
   "metadata": {
    "id": "5oWw0Ssn3ZkY"
   },
   "source": [
    "### Calculating the cosine distance"
   ]
  },
  {
   "cell_type": "code",
   "execution_count": null,
   "metadata": {
    "colab": {
     "base_uri": "https://localhost:8080/"
    },
    "id": "VidossOBoOZ8",
    "outputId": "d207299b-bc50-4478-e35a-3f1cd4803a4e"
   },
   "outputs": [],
   "source": [
    "# building pairs for ultimately calculating cosine distance\n",
    "def addColumnSuffix(df, suff):\n",
    "  return df.select(*[SF.col(col_name).alias(col_name + suff) for col_name in df.columns])\n",
    "\n",
    "def buildPairs(df, pair_col, group_col, val_col):\n",
    "  return addColumnSuffix(df, \"_1\").join(addColumnSuffix(df, \"_2\"), (SF.col(pair_col+'_1')<SF.col(pair_col+'_2')) & (SF.col(group_col+\"_1\") == SF.col(group_col+\"_2\"))).withColumnRenamed(group_col+\"_1\", group_col).drop(group_col+\"_2\")\n",
    "\n",
    "paired = buildPairs(reviews, \"user\", \"business\", \"stars\").select([\"user_1\", \"user_2\", \"business\", \"stars_1\", \"stars_2\"])\n",
    "paired.show()"
   ]
  },
  {
   "cell_type": "code",
   "execution_count": null,
   "metadata": {
    "colab": {
     "base_uri": "https://localhost:8080/"
    },
    "id": "9JBha6Lq6eim",
    "outputId": "9a58c062-5b87-406b-b351-1a503d52bf31"
   },
   "outputs": [],
   "source": [
    "# product of each pair of ratings for each pair of users\n",
    "prod = paired.withColumn(\"prod\", SF.col(\"stars_1\")*SF.col(\"stars_2\"))\n",
    "prod.show()"
   ]
  },
  {
   "cell_type": "code",
   "execution_count": null,
   "metadata": {
    "colab": {
     "base_uri": "https://localhost:8080/"
    },
    "id": "nmDXgHS36qA4",
    "outputId": "fe350e69-a8cf-4ba9-b626-24f53744892a"
   },
   "outputs": [],
   "source": [
    "# dot product between each pair of users\n",
    "dot = prod.groupBy([\"user_1\",\"user_2\"]).sum(\"prod\").withColumnRenamed(\"sum(prod)\", \"dot\")\n",
    "dot.show()"
   ]
  },
  {
   "cell_type": "code",
   "execution_count": null,
   "metadata": {
    "colab": {
     "base_uri": "https://localhost:8080/"
    },
    "id": "3sTVrwHt6yiR",
    "outputId": "c69ff596-d5e1-4874-843d-1ab954707e97"
   },
   "outputs": [],
   "source": [
    "# norm of the rating vector for each user\n",
    "def getNorms(df, group_col, val_col):\n",
    "  return df.withColumn(\"squared\", SF.col(val_col)**2).groupBy(group_col).sum(\"squared\").withColumn(\"norm\", SF.col(\"sum(squared)\")**.5).select([group_col, \"norm\"])\n",
    "\n",
    "norm = getNorms(reviews, \"user\", \"stars\")\n",
    "norm.show()"
   ]
  },
  {
   "cell_type": "code",
   "execution_count": null,
   "metadata": {
    "colab": {
     "base_uri": "https://localhost:8080/"
    },
    "id": "hrvIgTIh8bkE",
    "outputId": "6104f1c6-df31-4659-cd2e-9b7a6a9a60f3"
   },
   "outputs": [],
   "source": [
    "# joining dots and norms to calculate cosine distance\n",
    "dotnorm = dot.join(norm, SF.col(\"user_1\") == SF.col(\"user\")).withColumnRenamed(\"norm\", \"norm_1\").drop(\"user\").join(norm, SF.col(\"user_2\") == SF.col(\"user\")).withColumnRenamed(\"norm\", \"norm_2\").drop(\"user\")\n",
    "cosine = dotnorm.withColumn(\"cosine\", SF.col(\"dot\")/(SF.col(\"norm_1\")*SF.col(\"norm_2\"))).select([\"user_1\", \"user_2\", \"cosine\"])\n",
    "cosine.show()"
   ]
  },
  {
   "cell_type": "markdown",
   "metadata": {
    "id": "lQGvzkup3yTp"
   },
   "source": [
    "### Infering the missing entries"
   ]
  },
  {
   "cell_type": "code",
   "execution_count": null,
   "metadata": {
    "colab": {
     "base_uri": "https://localhost:8080/"
    },
    "id": "0RYu-fBvB-OK",
    "outputId": "a37824e8-49e7-4c28-e1d6-e1ade9e2c521"
   },
   "outputs": [],
   "source": [
    "def rankDistances(df, group_col, val_col):\n",
    "  w = SW.Window.partitionBy(group_col).orderBy(val_col)\n",
    "  return df.withColumn(\"rank\", SF.row_number().over(w))\n",
    "\n",
    "# adding symmetric distances\n",
    "# adding rank of user_2 with respect to user_1\n",
    "ranked = rankDistances(cosine.union(cosine.select(\"user_2\", \"user_1\", \"cosine\")), \"user_1\", \"cosine\").filter(SF.col(\"rank\")<=n)\n",
    "ranked.show()"
   ]
  },
  {
   "cell_type": "code",
   "execution_count": null,
   "metadata": {
    "colab": {
     "base_uri": "https://localhost:8080/"
    },
    "id": "7yBuZksHDRew",
    "outputId": "4a7deea2-cf8f-49a6-fd27-a65917cc2aee"
   },
   "outputs": [],
   "source": [
    "ranked.drop(\"cosine\")\n",
    "\n",
    "# calculating the utility matrix (including the entries we already have)\n",
    "utility = ranked.join(reviews, SF.col(\"user_2\")==SF.col(\"user\")).groupBy([\"user_1\", \"business\"]).mean(\"stars\").withColumnRenamed(\"avg(stars)\", \"stars_pred\").withColumnRenamed(\"user_1\", \"user\")\n",
    "utility.show()"
   ]
  },
  {
   "cell_type": "code",
   "execution_count": null,
   "metadata": {
    "colab": {
     "base_uri": "https://localhost:8080/"
    },
    "id": "08sldykt0jX-",
    "outputId": "56283232-ce6f-44c1-9e66-b8406f70b877"
   },
   "outputs": [],
   "source": [
    "# restore the reviews for the entries we already had in the original data\n",
    "utility = reviews.join(utility, on=[\"user\", \"business\"], how=\"right_outer\").withColumn(\"utility\", SF.coalesce(SF.col(\"stars\"),SF.col(\"stars_pred\"))).drop(\"stars_pred\").drop(\"stars\")\n",
    "utility.show()"
   ]
  },
  {
   "cell_type": "markdown",
   "metadata": {
    "id": "Rpkobi5D1Smw"
   },
   "source": [
    "## Normalized version"
   ]
  },
  {
   "cell_type": "markdown",
   "metadata": {
    "id": "L92y3BiRYXfb"
   },
   "source": [
    "### Normalizing"
   ]
  },
  {
   "cell_type": "code",
   "execution_count": null,
   "metadata": {
    "colab": {
     "base_uri": "https://localhost:8080/"
    },
    "id": "-ca-TyeBmaBu",
    "outputId": "244612f3-7d45-47cc-9d19-46fee9112956"
   },
   "outputs": [],
   "source": [
    "# normalization of column with respect to partition (user)\n",
    "\n",
    "def avgize(df, val_col, part_col):\n",
    "  return df.groupBy(part_col).avg(val_col)\n",
    "\n",
    "avgs = avgize(reviews, \"stars\", \"user\")\n",
    "avgs.show()"
   ]
  },
  {
   "cell_type": "code",
   "execution_count": null,
   "metadata": {
    "colab": {
     "base_uri": "https://localhost:8080/"
    },
    "id": "WeB6sKrsxh2K",
    "outputId": "3280561c-7b6d-48b5-bffb-9928ec680096"
   },
   "outputs": [],
   "source": [
    "def normalize(df, avg_df, avg_col, val_col, part_col):\n",
    "  return avg_df.join(df, part_col).withColumn(val_col+'_norm', SF.col(val_col)-SF.col(avg_col)).drop(avg_col).drop(val_col)\n",
    "\n",
    "reviews_nonnorm = reviews # keeping non-normalized version for later\n",
    "reviews = normalize(reviews, avgs, \"avg(stars)\", \"stars\", \"user\").withColumnRenamed(\"stars_norm\", \"stars\")\n",
    "reviews.show()"
   ]
  },
  {
   "cell_type": "markdown",
   "metadata": {
    "id": "qF-2XVnJYbb1"
   },
   "source": [
    "### Calculating"
   ]
  },
  {
   "cell_type": "code",
   "execution_count": null,
   "metadata": {
    "colab": {
     "base_uri": "https://localhost:8080/"
    },
    "id": "8dAphm1E27R5",
    "outputId": "18bf2a50-2174-49e8-e50b-47738d678767"
   },
   "outputs": [],
   "source": [
    "# same as before\n",
    "paired = buildPairs(reviews, \"user\", \"business\", \"stars\").select([\"user_1\", \"user_2\", \"business\", \"stars_1\", \"stars_2\"])\n",
    "prod = paired.withColumn(\"prod\", SF.col(\"stars_1\")*SF.col(\"stars_2\"))\n",
    "dot = prod.groupBy([\"user_1\",\"user_2\"]).sum(\"prod\").withColumnRenamed(\"sum(prod)\", \"dot\")\n",
    "norm = getNorms(reviews, \"user\", \"stars\")\n",
    "dotnorm = dot.join(norm, SF.col(\"user_1\") == SF.col(\"user\")).withColumnRenamed(\"norm\", \"norm_1\").drop(\"user\").join(norm, SF.col(\"user_2\") == SF.col(\"user\")).withColumnRenamed(\"norm\", \"norm_2\").drop(\"user\")\n",
    "cosine = dotnorm.withColumn(\"cosine\", SF.col(\"dot\")/(SF.col(\"norm_1\")*SF.col(\"norm_2\"))).select([\"user_1\", \"user_2\", \"cosine\"])\n",
    "ranked = rankDistances(cosine.union(cosine.select(\"user_2\", \"user_1\", \"cosine\")), \"user_1\", \"cosine\").drop(\"cosine\").filter(SF.col(\"rank\")<=n)\n",
    "utility_norm_norm = ranked.join(reviews, SF.col(\"user_2\")==SF.col(\"user\")).groupBy([\"user_1\", \"business\"]).mean(\"stars\").withColumnRenamed(\"avg(stars)\", \"stars_pred\").withColumnRenamed(\"user_1\", \"user\")\n",
    "utility_norm_norm.show()"
   ]
  },
  {
   "cell_type": "markdown",
   "metadata": {
    "id": "gChgeNnxYd7k"
   },
   "source": [
    "### Denormalizing"
   ]
  },
  {
   "cell_type": "code",
   "execution_count": null,
   "metadata": {
    "colab": {
     "base_uri": "https://localhost:8080/"
    },
    "id": "X7lJqnxJM9xg",
    "outputId": "964c3288-a84c-40d8-a8fa-1f1bc9c6a321"
   },
   "outputs": [],
   "source": [
    "# denormalizing in order to have something at scale\n",
    "\n",
    "def denormalize(df, avg_df, avg_col, val_col, part_col):\n",
    "  return avg_df.join(df, part_col).withColumn(val_col+'_denorm', SF.col(val_col)+SF.col(avg_col)).drop(avg_col).drop(val_col)\n",
    "\n",
    "utility_norm = denormalize(utility_norm_norm, avgs, \"avg(stars)\", \"stars_pred\", \"user\").withColumnRenamed(\"stars_pred_denorm\", \"stars_pred\")\n",
    "utility_norm.show()"
   ]
  },
  {
   "cell_type": "code",
   "execution_count": null,
   "metadata": {
    "colab": {
     "base_uri": "https://localhost:8080/"
    },
    "id": "Q2BRuchIzNW1",
    "outputId": "30d1c232-83f0-4523-b370-2aceafed2a91"
   },
   "outputs": [],
   "source": [
    "# restore the reviews for the entries we already had in the original data\n",
    "utility_norm = reviews_nonnorm.join(utility_norm, on=[\"user\", \"business\"], how=\"right_outer\").withColumn(\"utility\", SF.coalesce(SF.col(\"stars\"),SF.col(\"stars_pred\"))).drop(\"stars_pred\").drop(\"stars\")\n",
    "utility_norm.show()"
   ]
  },
  {
   "cell_type": "markdown",
   "metadata": {
    "id": "qb-AfaXDHrWa"
   },
   "source": [
    "# Evaluating the results"
   ]
  },
  {
   "cell_type": "markdown",
   "metadata": {
    "id": "j6p8rig_tQgf"
   },
   "source": [
    "## Comparing against ALS"
   ]
  },
  {
   "cell_type": "code",
   "execution_count": null,
   "metadata": {
    "id": "OKkHevEHRDni"
   },
   "outputs": [],
   "source": [
    "from pyspark.ml.evaluation import RegressionEvaluator\n",
    "from pyspark.ml.recommendation import ALS\n",
    "\n",
    "als = ALS(userCol=\"user\",\n",
    "          itemCol=\"business\",\n",
    "          ratingCol=\"stars\")\n",
    "\n",
    "model = als.fit(reviews_nonnorm)"
   ]
  },
  {
   "cell_type": "markdown",
   "metadata": {
    "id": "ZxHTcg5-Q_ml"
   },
   "source": [
    "### Non-normalized version"
   ]
  },
  {
   "cell_type": "code",
   "execution_count": null,
   "metadata": {
    "colab": {
     "base_uri": "https://localhost:8080/"
    },
    "id": "nIBCy8ePRXoY",
    "outputId": "d8c02f44-1c73-4243-ef78-6c023128a35a"
   },
   "outputs": [],
   "source": [
    "compare = model.transform(utility)\n",
    "compare.show()"
   ]
  },
  {
   "cell_type": "code",
   "execution_count": null,
   "metadata": {
    "colab": {
     "base_uri": "https://localhost:8080/"
    },
    "id": "78sRIZLARXoa",
    "outputId": "649cce9b-4907-470b-a6be-5d674ef3003e"
   },
   "outputs": [],
   "source": [
    "evaluator = RegressionEvaluator(metricName=\"rmse\", labelCol=\"prediction\", predictionCol=\"utility\")\n",
    "rmse = evaluator.evaluate(compare)\n",
    "print(\"RMSE: \" + str(rmse))"
   ]
  },
  {
   "cell_type": "markdown",
   "metadata": {
    "id": "gWwulih_Q6kV"
   },
   "source": [
    "### Normalized version"
   ]
  },
  {
   "cell_type": "code",
   "execution_count": null,
   "metadata": {
    "colab": {
     "base_uri": "https://localhost:8080/"
    },
    "id": "6RX2t6fEGpzs",
    "outputId": "d96850de-659b-4284-9d81-9ac785ff75f4"
   },
   "outputs": [],
   "source": [
    "compare = model.transform(utility_norm)\n",
    "compare.show()"
   ]
  },
  {
   "cell_type": "code",
   "execution_count": null,
   "metadata": {
    "colab": {
     "base_uri": "https://localhost:8080/"
    },
    "id": "gfzOgbsGSQ-y",
    "outputId": "e93d85cb-836a-4dbb-c664-74b28ddaf9ba"
   },
   "outputs": [],
   "source": [
    "rmse = evaluator.evaluate(compare)\n",
    "print(\"RMSE: \" + str(rmse))"
   ]
  },
  {
   "cell_type": "markdown",
   "metadata": {
    "id": "FxDICWdjtaIP"
   },
   "source": [
    "## Using the selected test set"
   ]
  },
  {
   "cell_type": "markdown",
   "metadata": {
    "id": "h_m1MI-GTa2P"
   },
   "source": [
    "### Non-normalized version"
   ]
  },
  {
   "cell_type": "code",
   "execution_count": null,
   "metadata": {
    "colab": {
     "base_uri": "https://localhost:8080/"
    },
    "id": "ELDkeTMCTa2R",
    "outputId": "63f4db49-c62b-4f64-f602-b8e8b2b945a4"
   },
   "outputs": [],
   "source": [
    "compare = utility.join(test_set, [\"user\", \"business\"]).select([\"user\", \"business\", \"stars\", \"utility\"])\n",
    "compare.show()"
   ]
  },
  {
   "cell_type": "code",
   "execution_count": null,
   "metadata": {
    "colab": {
     "base_uri": "https://localhost:8080/"
    },
    "id": "yePdKLQ7Ta2T",
    "outputId": "2ca6aaec-4118-4523-d26b-b894c2e47f05"
   },
   "outputs": [],
   "source": [
    "evaluator = RegressionEvaluator(metricName=\"rmse\", labelCol=\"stars\", predictionCol=\"utility\")\n",
    "rmse = evaluator.evaluate(compare)\n",
    "print(\"RMSE: \" + str(rmse))"
   ]
  },
  {
   "cell_type": "markdown",
   "metadata": {
    "id": "PKv6nbdCTO9B"
   },
   "source": [
    "### Normalized version"
   ]
  },
  {
   "cell_type": "code",
   "execution_count": null,
   "metadata": {
    "colab": {
     "base_uri": "https://localhost:8080/"
    },
    "id": "9QO-BwXBuJNK",
    "outputId": "8f33fb3a-45cc-4fbd-f338-18864da3fed4"
   },
   "outputs": [],
   "source": [
    "compare = utility_norm.join(test_set, [\"user\", \"business\"]).select([\"user\", \"business\", \"stars\", \"utility\"])\n",
    "compare.show()"
   ]
  },
  {
   "cell_type": "code",
   "execution_count": null,
   "metadata": {
    "colab": {
     "base_uri": "https://localhost:8080/"
    },
    "id": "k0fu837NxI_A",
    "outputId": "c00974eb-4245-4dae-9b8a-450cb6f8bca1"
   },
   "outputs": [],
   "source": [
    "rmse = evaluator.evaluate(compare)\n",
    "print(\"RMSE: \" + str(rmse))"
   ]
  }
 ],
 "metadata": {
  "colab": {
   "provenance": []
  },
  "kernelspec": {
   "display_name": "Python 3",
   "name": "python3"
  },
  "language_info": {
   "name": "python"
  }
 },
 "nbformat": 4,
 "nbformat_minor": 0
}
