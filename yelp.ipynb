{
 "cells": [
  {
   "cell_type": "markdown",
   "metadata": {
    "id": "PyzHVan2Ze8S"
   },
   "source": [
    "# Preliminaries"
   ]
  },
  {
   "cell_type": "markdown",
   "metadata": {
    "id": "Dr6Pa4qAZlmD"
   },
   "source": [
    "Upload your kaggle API token. You can download it in the [kaggle account settings](https://www.kaggle.com/settings) under \"Create new token\""
   ]
  },
  {
   "cell_type": "code",
   "execution_count": null,
   "metadata": {
    "colab": {
     "base_uri": "https://localhost:8080/",
     "height": 75
    },
    "id": "uFdms6BZlcGB",
    "outputId": "d7906e77-2410-4751-d2ef-0b73d6375666"
   },
   "outputs": [],
   "source": [
    "from google.colab import files\n",
    "files.upload()\n",
    "!chmod 600 kaggle.json\n",
    "!mkdir -p ~/.kaggle\n",
    "!mv kaggle.json ~/.kaggle/"
   ]
  },
  {
   "cell_type": "markdown",
   "metadata": {
    "id": "K3v4rZ-p724v"
   },
   "source": [
    "Set to `n` to limit the dataset to the first `n` entries or set to `0` if you want to use the entire dataset."
   ]
  },
  {
   "cell_type": "code",
   "execution_count": null,
   "metadata": {
    "id": "_dDes9ST7dHc"
   },
   "outputs": [],
   "source": [
    "limit_data = 1000"
   ]
  },
  {
   "cell_type": "markdown",
   "metadata": {
    "id": "K1vTsjfLPgye"
   },
   "source": [
    "# Setup"
   ]
  },
  {
   "cell_type": "markdown",
   "metadata": {
    "id": "Bp-6xB1v0R7y"
   },
   "source": [
    "## Download dependencies"
   ]
  },
  {
   "cell_type": "code",
   "execution_count": null,
   "metadata": {
    "colab": {
     "base_uri": "https://localhost:8080/"
    },
    "id": "4tZY14tmcsmF",
    "outputId": "a9a67761-911b-4573-fc11-3050b3c3e314"
   },
   "outputs": [],
   "source": [
    "!pip install -q kaggle pyspark"
   ]
  },
  {
   "cell_type": "code",
   "execution_count": null,
   "metadata": {
    "id": "84KrR_TegHsa"
   },
   "outputs": [],
   "source": [
    "import pyspark"
   ]
  },
  {
   "cell_type": "markdown",
   "metadata": {
    "id": "tb_-Iw3CzS_M"
   },
   "source": [
    "## Download and load dataset"
   ]
  },
  {
   "cell_type": "code",
   "execution_count": null,
   "metadata": {
    "colab": {
     "base_uri": "https://localhost:8080/"
    },
    "id": "JoVp3G5HQfnZ",
    "outputId": "f0686989-184f-4bb7-d50a-733d4fe8daaf"
   },
   "outputs": [],
   "source": [
    "!kaggle datasets download yelp-dataset/yelp-dataset\n",
    "!unzip -n yelp-dataset.zip"
   ]
  },
  {
   "cell_type": "code",
   "execution_count": null,
   "metadata": {
    "id": "hBcVqL8Bhanp"
   },
   "outputs": [],
   "source": [
    "spark = pyspark.sql.SparkSession.builder.getOrCreate()"
   ]
  },
  {
   "cell_type": "code",
   "execution_count": null,
   "metadata": {
    "id": "YK76nE0Wjvcq"
   },
   "outputs": [],
   "source": [
    "reviews = spark.read.json(\"yelp_academic_dataset_review.json\")\n",
    "if limit_data != 0: reviews = reviews.limit(limit_data)"
   ]
  },
  {
   "cell_type": "code",
   "execution_count": null,
   "metadata": {
    "colab": {
     "base_uri": "https://localhost:8080/"
    },
    "id": "9XZojiLWtLJz",
    "outputId": "0ea3a3f4-e64b-4c7b-ba95-025f3581b6c3"
   },
   "outputs": [],
   "source": [
    "reviews.show()"
   ]
  }
 ],
 "metadata": {
  "colab": {
   "provenance": []
  },
  "kernelspec": {
   "display_name": "Python 3",
   "name": "python3"
  },
  "language_info": {
   "name": "python"
  }
 },
 "nbformat": 4,
 "nbformat_minor": 0
}
